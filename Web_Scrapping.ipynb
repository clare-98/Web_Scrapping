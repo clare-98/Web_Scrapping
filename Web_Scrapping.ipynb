{
  "cells": [
    {
      "cell_type": "code",
      "execution_count": null,
      "metadata": {
        "id": "hpgOc_bl0LyU"
      },
      "outputs": [],
      "source": [
        "import requests\n",
        "from bs4 import BeautifulSoup\n",
        "import csv\n",
        "import pandas as pd\n",
        "url=(\"https://www.jumia.co.ke/all-products/\")"
      ]
    },
    {
      "cell_type": "code",
      "execution_count": null,
      "metadata": {
        "id": "awNiX2hV0y-Z"
      },
      "outputs": [],
      "source": [
        "jumia = requests.get(url)\n",
        "jumia.raise_for_status()"
      ]
    },
    {
      "cell_type": "code",
      "execution_count": null,
      "metadata": {
        "id": "mHz0QIMq1Kej"
      },
      "outputs": [],
      "source": [
        "soup = BeautifulSoup(jumia.text , 'html.parser')"
      ]
    },
    {
      "cell_type": "code",
      "source": [
        "from bs4 import BeautifulSoup\n",
        "import requests\n",
        "\n",
        "for page in range(1,51):\n",
        "  url = \"https://www.jumia.co.ke/all-products/\" + \"?page=\" +str(page)+\"#catalog-listing\"\n",
        "  furl = requests.get(url)\n",
        "  jsoup = BeautifulSoup(furl.content , 'html.parser')\n",
        "  products = jsoup.find_all('div' , class_ = 'info')\n",
        "\n",
        "  info=[]\n",
        "  for product in products:\n",
        "      Name = product.find('h3' , class_=\"name\").text.replace('\\n', '')\n",
        "      Price = product.find('div' , class_= \"prc\").text.replace('\\n', '')\n",
        "      try:\n",
        "        Rating = product.find('div', class_='stars _s').text.replace('\\n', '')\n",
        "      except:\n",
        "        Rating = 'None'\n",
        "      info.append([ Name, Price, Rating])"
      ],
      "metadata": {
        "id": "8C5H7sHaUegc"
      },
      "execution_count": null,
      "outputs": []
    },
    {
      "cell_type": "code",
      "execution_count": null,
      "metadata": {
        "colab": {
          "base_uri": "https://localhost:8080/"
        },
        "id": "pq01slf_1clq",
        "outputId": "2877464b-0938-4f70-c815-bbcc94151883"
      },
      "outputs": [
        {
          "output_type": "stream",
          "name": "stdout",
          "text": [
            "                                 0   \\\n",
            "0  Rosy Smart Serviettes 100 Sheets   \n",
            "1                            KSh 80   \n",
            "2                        4 out of 5   \n",
            "\n",
            "                                                  1   \\\n",
            "0  Lenovo Ideapad 3-15.6\"-Intel Celeron-1TB HDD-4...   \n",
            "1                                         KSh 31,499   \n",
            "2                                         5 out of 5   \n",
            "\n",
            "                                                  2   \\\n",
            "0  Generic Bluetooth Speaker With Suction Cup On ...   \n",
            "1                                            KSh 720   \n",
            "2                                       3.8 out of 5   \n",
            "\n",
            "                                                  3   \\\n",
            "0  Fashion Unisex Maroon Casual/Official Jacket/Coat   \n",
            "1                              KSh 1,499 - KSh 1,699   \n",
            "2                                       4.5 out of 5   \n",
            "\n",
            "                                                  4   \\\n",
            "0  Fashion Women's Luxurious Fine Diamond Pearl H...   \n",
            "1                                            KSh 450   \n",
            "2                                               None   \n",
            "\n",
            "                                                  5   \\\n",
            "0  Generic 10 Inch Ring Light With 7ft (2M)Tripod...   \n",
            "1                                          KSh 1,650   \n",
            "2                                       3.9 out of 5   \n",
            "\n",
            "                                                  6   \\\n",
            "0  Generic Hips And Buttocks Enlargement, Herbal Tea   \n",
            "1                                            KSh 749   \n",
            "2                                       3.8 out of 5   \n",
            "\n",
            "                                                  7   \\\n",
            "0  Fashion 4Pcs Women Ring Set Sliver Leaf Flower...   \n",
            "1                                            KSh 198   \n",
            "2                                         4 out of 5   \n",
            "\n",
            "                                                8   \\\n",
            "0  Jbl High Quality Jbl TWS-4 Ideal Truly Wireless   \n",
            "1                                        KSh 1,000   \n",
            "2                                             None   \n",
            "\n",
            "                                            9   ...  \\\n",
            "0  Generic Amazing 2 Pcs Kitchen Non Slip Mat.  ...   \n",
            "1                                    KSh 1,699  ...   \n",
            "2                                 4.4 out of 5  ...   \n",
            "\n",
            "                                                  30  \\\n",
            "0  Maybelline SuperStay 30H Active Wear Foundatio...   \n",
            "1                                          KSh 1,800   \n",
            "2                                       4.1 out of 5   \n",
            "\n",
            "                                                  31  \\\n",
            "0  Kojic Acid Soap Kojie San Skin Lightening Soap...   \n",
            "1                                            KSh 350   \n",
            "2                                         2 out of 5   \n",
            "\n",
            "                                                 32  \\\n",
            "0  Fashion Fleece Fuzzy OMG Women Stretchy Headband   \n",
            "1                                           KSh 450   \n",
            "2                                        5 out of 5   \n",
            "\n",
            "                                                  33  \\\n",
            "0  Hisense 43A4HKEN - 43\" Frameless Smart TV - Black   \n",
            "1                                         KSh 31,650   \n",
            "2                                         5 out of 5   \n",
            "\n",
            "                                                  34  \\\n",
            "0  Itel 5081//Triple SIM CARD //SIZE DISPLAY2.40'...   \n",
            "1                                          KSh 2,100   \n",
            "2                                       4.5 out of 5   \n",
            "\n",
            "                                                  35  \\\n",
            "0  Kirkland Minoxidil 5% Extra Strength Hair Regr...   \n",
            "1                                          KSh 1,600   \n",
            "2                                               None   \n",
            "\n",
            "                                                  36  \\\n",
            "0  Generic Laptop Riser Adjustable Foldable Porta...   \n",
            "1                                            KSh 799   \n",
            "2                                       4.8 out of 5   \n",
            "\n",
            "                                                  37  \\\n",
            "0  Fashion Style MEN DENIM JEANS SLIM FIT NON FAD...   \n",
            "1                                          KSh 1,850   \n",
            "2                                       3.5 out of 5   \n",
            "\n",
            "                                                  38  \\\n",
            "0  Generic Comfortable Warm With A Hood Baby Carr...   \n",
            "1                                          KSh 1,299   \n",
            "2                                         4 out of 5   \n",
            "\n",
            "                                                  39  \n",
            "0  Oraimo Strong Bass , HD With Mic,Call Receivin...  \n",
            "1                                          KSh 1,350  \n",
            "2                                               None  \n",
            "\n",
            "[3 rows x 40 columns]\n"
          ]
        }
      ],
      "source": [
        "# Convert the scraped data to Excel\n",
        "excel_file = 'Jumia_Sales.csv'\n",
        "df = pd.DataFrame(info).T\n",
        "print(df)"
      ]
    },
    {
      "cell_type": "code",
      "source": [
        "# Mount Google Drive to Colab\n",
        "from google.colab import drive\n",
        "drive.mount('/content/drive')\n",
        "\n",
        "df.to_csv('/content/drive/MyDrive/1FYN/Jumia.sales.csv', index=False)\n"
      ],
      "metadata": {
        "colab": {
          "base_uri": "https://localhost:8080/"
        },
        "id": "1bTzsPP9DVyO",
        "outputId": "62f50be7-a00c-4765-e8c3-0ec8ade93e3e"
      },
      "execution_count": null,
      "outputs": [
        {
          "output_type": "stream",
          "name": "stdout",
          "text": [
            "Drive already mounted at /content/drive; to attempt to forcibly remount, call drive.mount(\"/content/drive\", force_remount=True).\n"
          ]
        }
      ]
    },
    {
      "cell_type": "code",
      "source": [],
      "metadata": {
        "id": "aOxqfg6mDjA-"
      },
      "execution_count": null,
      "outputs": []
    }
  ],
  "metadata": {
    "colab": {
      "provenance": []
    },
    "kernelspec": {
      "display_name": "Python 3",
      "name": "python3"
    },
    "language_info": {
      "name": "python"
    }
  },
  "nbformat": 4,
  "nbformat_minor": 0
}